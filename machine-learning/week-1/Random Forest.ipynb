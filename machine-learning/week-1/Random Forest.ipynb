{
 "cells": [
  {
   "cell_type": "code",
   "execution_count": 2,
   "id": "36e691f9-be0e-4fc3-a417-daf5b8a1d33e",
   "metadata": {},
   "outputs": [],
   "source": [
    "import pandas as pd\n",
    "import numpy as np\n",
    "import matplotlib as plt\n",
    "import seaborn as sns\n",
    "%matplotlib inline"
   ]
  },
  {
   "cell_type": "code",
   "execution_count": 4,
   "id": "3465450d-e532-43d1-ac4b-c462d8943f0e",
   "metadata": {},
   "outputs": [],
   "source": [
    "train = pd.read_csv('training_data')\n",
    "X_train = train.drop('output', axis = 1)\n",
    "y_train = train['output']\n",
    "test = pd.read_csv('testing_data')\n",
    "X_test = test.drop('output', axis = 1)\n",
    "y_test = test['output']"
   ]
  },
  {
   "cell_type": "code",
   "execution_count": 8,
   "id": "6a8d976a-27ef-4b7a-8ab0-891b59b77a69",
   "metadata": {},
   "outputs": [
    {
     "name": "stdout",
     "output_type": "stream",
     "text": [
      "Undersampled class distribution: Counter({0: 7506, 1: 7506})\n"
     ]
    }
   ],
   "source": [
    "from imblearn.under_sampling import RandomUnderSampler\n",
    "from collections import Counter\n",
    "undersample = RandomUnderSampler(sampling_strategy='majority')\n",
    "X_under_train, y_under_train = undersample.fit_resample(X_train, y_train)\n",
    "print(\"Undersampled class distribution:\", Counter(y_under_train))"
   ]
  },
  {
   "cell_type": "code",
   "execution_count": 6,
   "id": "80c3a8b9-c481-4032-a2ce-3513854912b4",
   "metadata": {},
   "outputs": [],
   "source": [
    "from sklearn.ensemble import RandomForestClassifier"
   ]
  },
  {
   "cell_type": "code",
   "execution_count": 12,
   "id": "907d4bd8-2a03-493b-94e9-0365e6de288e",
   "metadata": {},
   "outputs": [],
   "source": [
    "from sklearn.metrics import confusion_matrix, classification_report"
   ]
  },
  {
   "cell_type": "code",
   "execution_count": 14,
   "id": "b18c1670-134d-4398-9038-3ab088d0f98e",
   "metadata": {},
   "outputs": [
    {
     "name": "stdout",
     "output_type": "stream",
     "text": [
      "[[543045  10529]\n",
      " [    86   2059]]\n",
      "              precision    recall  f1-score   support\n",
      "\n",
      "           0       1.00      0.98      0.99    553574\n",
      "           1       0.16      0.96      0.28      2145\n",
      "\n",
      "    accuracy                           0.98    555719\n",
      "   macro avg       0.58      0.97      0.63    555719\n",
      "weighted avg       1.00      0.98      0.99    555719\n",
      "\n"
     ]
    }
   ],
   "source": [
    "rfc = RandomForestClassifier(n_estimators=200)\n",
    "rfc.fit(X_under_train, y_under_train)\n",
    "rfc_pred = rfc.predict(X_test)\n",
    "print(confusion_matrix(y_test,rfc_pred))\n",
    "print(classification_report(y_test,rfc_pred))"
   ]
  },
  {
   "cell_type": "code",
   "execution_count": 33,
   "id": "0b5ea433-4973-4421-967b-332c00cdac87",
   "metadata": {},
   "outputs": [
    {
     "data": {
      "text/plain": [
       "0.9704433596128293"
      ]
     },
     "execution_count": 33,
     "metadata": {},
     "output_type": "execute_result"
    }
   ],
   "source": [
    "from sklearn.metrics import roc_auc_score\n",
    "roc_auc_score(y_test,rfc_pred)"
   ]
  },
  {
   "cell_type": "markdown",
   "id": "d4e36852-adae-4533-bbb5-27d6a502990a",
   "metadata": {},
   "source": [
    "### LET'S TRY WITH LABEL ENCODED DATA"
   ]
  },
  {
   "cell_type": "code",
   "execution_count": 26,
   "id": "2c9dd762-62e1-49c3-a897-d4f58e13884b",
   "metadata": {},
   "outputs": [],
   "source": [
    "train1 = pd.read_csv('training_data_label_encoded')\n",
    "X_train1 = train1.drop('is_fraud', axis = 1)\n",
    "y_train1= train1['is_fraud']\n",
    "test1 = pd.read_csv('testing_data_label_encoded')\n",
    "X_test1 = test1.drop('is_fraud', axis = 1)\n",
    "y_test1 = test1['is_fraud']"
   ]
  },
  {
   "cell_type": "code",
   "execution_count": 28,
   "id": "ee503596-c393-4dbb-aed6-323d44e9fcf2",
   "metadata": {},
   "outputs": [
    {
     "name": "stdout",
     "output_type": "stream",
     "text": [
      "Undersampled class distribution: Counter({0: 7506, 1: 7506})\n"
     ]
    }
   ],
   "source": [
    "undersample = RandomUnderSampler(sampling_strategy='majority')\n",
    "X_under_train1, y_under_train1 = undersample.fit_resample(X_train1, y_train1)\n",
    "print(\"Undersampled class distribution:\", Counter(y_under_train1))"
   ]
  },
  {
   "cell_type": "code",
   "execution_count": 30,
   "id": "0aa63166-d161-4061-8e0e-b9c3735be8af",
   "metadata": {},
   "outputs": [
    {
     "name": "stdout",
     "output_type": "stream",
     "text": [
      "[[541992  11582]\n",
      " [   116   2029]]\n",
      "              precision    recall  f1-score   support\n",
      "\n",
      "           0       1.00      0.98      0.99    553574\n",
      "           1       0.15      0.95      0.26      2145\n",
      "\n",
      "    accuracy                           0.98    555719\n",
      "   macro avg       0.57      0.96      0.62    555719\n",
      "weighted avg       1.00      0.98      0.99    555719\n",
      "\n"
     ]
    }
   ],
   "source": [
    "rfc1 = RandomForestClassifier(n_estimators=200)\n",
    "rfc1.fit(X_under_train1, y_under_train1)\n",
    "rfc_pred1 = rfc1.predict(X_test1)\n",
    "print(confusion_matrix(y_test1,rfc_pred1))\n",
    "print(classification_report(y_test1,rfc_pred1))"
   ]
  },
  {
   "cell_type": "code",
   "execution_count": 37,
   "id": "e6590951-0efb-4843-ad33-b0f56f7782bf",
   "metadata": {},
   "outputs": [
    {
     "name": "stdout",
     "output_type": "stream",
     "text": [
      "0.9624992602636061\n"
     ]
    }
   ],
   "source": [
    "print(roc_auc_score(y_test1,rfc_pred1))"
   ]
  },
  {
   "cell_type": "code",
   "execution_count": null,
   "id": "0b78a2c6-a564-4cad-a4de-a6dc0716308e",
   "metadata": {},
   "outputs": [],
   "source": []
  }
 ],
 "metadata": {
  "kernelspec": {
   "display_name": "Python 3 (ipykernel)",
   "language": "python",
   "name": "python3"
  },
  "language_info": {
   "codemirror_mode": {
    "name": "ipython",
    "version": 3
   },
   "file_extension": ".py",
   "mimetype": "text/x-python",
   "name": "python",
   "nbconvert_exporter": "python",
   "pygments_lexer": "ipython3",
   "version": "3.12.4"
  }
 },
 "nbformat": 4,
 "nbformat_minor": 5
}
