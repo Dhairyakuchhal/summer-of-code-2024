{
 "cells": [
  {
   "cell_type": "code",
   "execution_count": 2,
   "id": "36e691f9-be0e-4fc3-a417-daf5b8a1d33e",
   "metadata": {},
   "outputs": [],
   "source": [
    "import pandas as pd\n",
    "import numpy as np\n",
    "import matplotlib as plt\n",
    "import seaborn as sns\n",
    "%matplotlib inline"
   ]
  },
  {
   "cell_type": "code",
   "execution_count": 4,
   "id": "3465450d-e532-43d1-ac4b-c462d8943f0e",
   "metadata": {},
   "outputs": [],
   "source": [
    "train = pd.read_csv('training_data')\n",
    "X_train = train.drop('output', axis = 1)\n",
    "y_train = train['output']\n",
    "test = pd.read_csv('testing_data')\n",
    "X_test = test.drop('output', axis = 1)\n",
    "y_test = test['output']"
   ]
  },
  {
   "cell_type": "code",
   "execution_count": 8,
   "id": "6a8d976a-27ef-4b7a-8ab0-891b59b77a69",
   "metadata": {},
   "outputs": [
    {
     "name": "stdout",
     "output_type": "stream",
     "text": [
      "Undersampled class distribution: Counter({0: 7506, 1: 7506})\n"
     ]
    }
   ],
   "source": [
    "from imblearn.under_sampling import RandomUnderSampler\n",
    "from collections import Counter\n",
    "undersample = RandomUnderSampler(sampling_strategy='majority')\n",
    "X_under_train, y_under_train = undersample.fit_resample(X_train, y_train)\n",
    "print(\"Undersampled class distribution:\", Counter(y_under_train))"
   ]
  },
  {
   "cell_type": "code",
   "execution_count": 6,
   "id": "80c3a8b9-c481-4032-a2ce-3513854912b4",
   "metadata": {},
   "outputs": [],
   "source": [
    "from sklearn.ensemble import RandomForestClassifier"
   ]
  },
  {
   "cell_type": "code",
   "execution_count": 12,
   "id": "907d4bd8-2a03-493b-94e9-0365e6de288e",
   "metadata": {},
   "outputs": [],
   "source": [
    "from sklearn.metrics import confusion_matrix, classification_report"
   ]
  },
  {
   "cell_type": "code",
   "execution_count": 14,
   "id": "b18c1670-134d-4398-9038-3ab088d0f98e",
   "metadata": {},
   "outputs": [
    {
     "name": "stdout",
     "output_type": "stream",
     "text": [
      "[[543045  10529]\n",
      " [    86   2059]]\n",
      "              precision    recall  f1-score   support\n",
      "\n",
      "           0       1.00      0.98      0.99    553574\n",
      "           1       0.16      0.96      0.28      2145\n",
      "\n",
      "    accuracy                           0.98    555719\n",
      "   macro avg       0.58      0.97      0.63    555719\n",
      "weighted avg       1.00      0.98      0.99    555719\n",
      "\n"
     ]
    }
   ],
   "source": [
    "rfc = RandomForestClassifier(n_estimators=200)\n",
    "rfc.fit(X_under_train, y_under_train)\n",
    "rfc_pred = rfc.predict(X_test)\n",
    "print(confusion_matrix(y_test,rfc_pred))\n",
    "print(classification_report(y_test,rfc_pred))"
   ]
  },
  {
   "cell_type": "code",
   "execution_count": null,
   "id": "5ba0daaa-302a-4782-994b-e0959075dff2",
   "metadata": {},
   "outputs": [],
   "source": []
  }
 ],
 "metadata": {
  "kernelspec": {
   "display_name": "Python 3 (ipykernel)",
   "language": "python",
   "name": "python3"
  },
  "language_info": {
   "codemirror_mode": {
    "name": "ipython",
    "version": 3
   },
   "file_extension": ".py",
   "mimetype": "text/x-python",
   "name": "python",
   "nbconvert_exporter": "python",
   "pygments_lexer": "ipython3",
   "version": "3.12.4"
  }
 },
 "nbformat": 4,
 "nbformat_minor": 5
}
